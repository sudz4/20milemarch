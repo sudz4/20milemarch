{
 "cells": [
  {
   "attachments": {},
   "cell_type": "markdown",
   "metadata": {},
   "source": [
    "| SLUSH BUCKET | Code Testing File |\n",
    "|-|-|"
   ]
  },
  {
   "cell_type": "code",
   "execution_count": 9,
   "metadata": {},
   "outputs": [],
   "source": [
    "# libraries\n",
    "import os\n",
    "from twilio.rest import Client\n",
    "import schedule # twilio schedule\n",
    "import time\n",
    "from datetime import datetime"
   ]
  },
  {
   "cell_type": "code",
   "execution_count": 6,
   "metadata": {},
   "outputs": [],
   "source": [
    "# files\n",
    "from config4 import TWILIO_ACCT_SID\n",
    "from config4 import TWILIO_AUTH_TOKEN\n",
    "from config4 import TWILIO_PHONE_NUMBER\n",
    "from config4 import TWILIO_TARGET_PHONE_NUMBER"
   ]
  },
  {
   "cell_type": "code",
   "execution_count": 8,
   "metadata": {},
   "outputs": [
    {
     "name": "stdout",
     "output_type": "stream",
     "text": [
      "SMf49d63336ab0f673c8c4aef6d10724d9\n"
     ]
    }
   ],
   "source": [
    "# Initialize the Twilio client\n",
    "client = Client(TWILIO_ACCT_SID, TWILIO_AUTH_TOKEN)\n",
    "\n",
    "# Send the message\n",
    "message = client.messages.create(\n",
    "    body=\"Hey sudsman is this thing on?\",\n",
    "    from_=TWILIO_PHONE_NUMBER,\n",
    "    to=TWILIO_TARGET_PHONE_NUMBER\n",
    ")\n",
    "\n",
    "# Print the message SID to confirm the message was sent\n",
    "print(message.sid) # The Message SID is the unique ID for any message successfully created by Twilio's API. It is a 34 character string"
   ]
  },
  {
   "cell_type": "code",
   "execution_count": null,
   "metadata": {},
   "outputs": [],
   "source": [
    "# create a program that sends a text messages with a task list\n",
    "\"\"\"\n",
    "Later I want to cloud host this program.\n",
    "And also be able to interact with it from text message (remotely)\n",
    "\"\"\"\n",
    "\n",
    "tasks = [\"Did you push code to github yet?\", \n",
    "         \"Have you worked on your USD CYBR stuff today?\", \n",
    "         \"Did you do any admin tasks?\",\n",
    "         \"Did you reach out to people to be somewhat social?\",\n",
    "         \"Have you trained today -> either a 4mile run or CrossFit workout/similar HIIT training/Lacrosse game\",\n",
    "         \"Have you spent a significant time stretching today (total)? Try to keep getting closer to 2hrs total\"]\n",
    "\n",
    "def send_sms(task):\n",
    "    message = client.messages.create(\n",
    "        body=f\"Task -> {task}?\",\n",
    "        from_=TWILIO_PHONE_NUMBER,\n",
    "        to=TWILIO_TARGET_PHONE_NUMBER\n",
    "    )\n",
    "    print(f\"Message sent for {task}: {message.sid}\")\n",
    "\n",
    "def schedule_tasks():\n",
    "    for i, task in enumerate(tasks):\n",
    "        schedule.every().day.at(\"19:01\").do(send_sms, task=task)\n",
    "\n",
    "def send_test_message():\n",
    "    message = client.messages.create(\n",
    "        body=\"Pain unlocks a secret doorway in the mind, one that leads to both peak performance and beautiful silence.\",\n",
    "        from_=TWILIO_PHONE_NUMBER,\n",
    "        to=TWILIO_TARGET_PHONE_NUMBER\n",
    "    )\n",
    "    print(f\"David Goggins test message sent: {message.sid}\")\n",
    "\n",
    "def main():\n",
    "    schedule_tasks()\n",
    "    while True:\n",
    "        schedule.run_pending()\n",
    "        time.sleep(60)\n",
    "\n",
    "# if __name__ == \"__main__\":\n",
    "#     main()\n",
    "\n",
    "if __name__ == \"__main__\":\n",
    "    send_test_message()\n",
    "    main()"
   ]
  },
  {
   "cell_type": "code",
   "execution_count": null,
   "metadata": {},
   "outputs": [],
   "source": []
  }
 ],
 "metadata": {
  "kernelspec": {
   "display_name": "20MILEMARCH_venv",
   "language": "python",
   "name": "python3"
  },
  "language_info": {
   "codemirror_mode": {
    "name": "ipython",
    "version": 3
   },
   "file_extension": ".py",
   "mimetype": "text/x-python",
   "name": "python",
   "nbconvert_exporter": "python",
   "pygments_lexer": "ipython3",
   "version": "3.11.1"
  },
  "orig_nbformat": 4
 },
 "nbformat": 4,
 "nbformat_minor": 2
}
