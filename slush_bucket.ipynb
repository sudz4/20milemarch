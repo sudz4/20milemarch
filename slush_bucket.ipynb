{
 "cells": [
  {
   "attachments": {},
   "cell_type": "markdown",
   "metadata": {},
   "source": [
    "| SLUSH BUCKET | Code Testing File |\n",
    "|-|-|"
   ]
  },
  {
   "cell_type": "code",
   "execution_count": 2,
   "metadata": {},
   "outputs": [],
   "source": [
    "# libraries\n",
    "import os\n",
    "from twilio.rest import Client\n",
    "import schedule # twilio schedule\n",
    "import time\n",
    "from datetime import datetime"
   ]
  },
  {
   "cell_type": "code",
   "execution_count": 3,
   "metadata": {},
   "outputs": [],
   "source": [
    "# files\n",
    "from config4 import TWILIO_ACCT_SID # hide\n",
    "from config4 import TWILIO_AUTH_TOKEN # all \n",
    "from config4 import TWILIO_PHONE_NUMBER # this \n",
    "from config4 import TWILIO_TARGET_PHONE_NUMBER # shit"
   ]
  },
  {
   "cell_type": "code",
   "execution_count": 4,
   "metadata": {},
   "outputs": [
    {
     "name": "stdout",
     "output_type": "stream",
     "text": [
      "SMe8e2abd1f096ad33f684cfaddaf122a0\n"
     ]
    }
   ],
   "source": [
    "# Initialize the Twilio client\n",
    "client = Client(TWILIO_ACCT_SID, TWILIO_AUTH_TOKEN)\n",
    "\n",
    "# Send the message\n",
    "message = client.messages.create(\n",
    "    body=\"Hey sudsman is this thing on?\",\n",
    "    from_=TWILIO_PHONE_NUMBER,\n",
    "    to=TWILIO_TARGET_PHONE_NUMBER\n",
    ")\n",
    "\n",
    "# Print the message SID to confirm the message was sent\n",
    "print(message.sid) # The Message SID is the unique ID for any message successfully created by Twilio's API. It is a 34 character string"
   ]
  },
  {
   "cell_type": "code",
   "execution_count": 5,
   "metadata": {},
   "outputs": [
    {
     "name": "stdout",
     "output_type": "stream",
     "text": [
      "David Goggins test message sent: SM5ab8d2d39f9c4cfd1ab6f93066be78ed\n",
      "Probe Message SENT!: 2023-03-24 20:16:02\n",
      "Scheduled SMS arrival time: 20:18\n",
      "\n",
      "Waiting for signal from scheduler to send SMS message...\n",
      "\n",
      "Message SENT -> Did you push code to github yet?: SMb9fd6f9de9bd1a8bcf62ce4ea5da4fcb\n",
      "Message SENT -> Have you worked on your USD CYBR stuff today?: SMb2eb279b001379ddf3f9850535fbbc01\n",
      "Message SENT -> Did you do any admin tasks?: SM371508b763d32f9bf29c95939cdb059f\n",
      "Message SENT -> Did you reach out to people to be somewhat social?: SM872e0534c3701a669a299bdadc427a93\n",
      "Message SENT -> Have you trained today -> either a 4mile run or CrossFit workout/similar HIIT training/Lacrosse game: SM4847816e7c7929e76055905a4652447c\n",
      "Message SENT -> Have you spent a significant time stretching today (total)? Try to keep getting closer to 2hrs total: SM2ad1e10f4b073f1ad13d43695767cfc6\n"
     ]
    }
   ],
   "source": [
    "# create a program that sends a text messages with a task list\n",
    "\"\"\"\n",
    "Later I want to cloud host this program.\n",
    "And also be able to interact with it from text message (remotely)\n",
    "\"\"\"\n",
    "# ADJUST THE SMS ARRIVAL TIME HERE\n",
    "SMS_ARRIVAL_TIME = \"20:18\" # this is used later to determine when to send the sms message(s) with the above task list\n",
    "\n",
    "tasks = [\"Did you push code to github yet?\", \n",
    "         \"Have you worked on your USD CYBR stuff today?\", \n",
    "         \"Did you do any admin tasks?\",\n",
    "         \"Did you reach out to people to be somewhat social?\",\n",
    "         \"Have you trained today -> either a 4mile run or CrossFit workout/similar HIIT training/Lacrosse game\",\n",
    "         \"Have you spent a significant time stretching today (total)? Try to keep getting closer to 2hrs total\"]\n",
    "\n",
    "def display_time_info(): # displays time the probe sms time and the follow on scheduled sms text(s) arrival time\n",
    "    global SMS_ARRIVAL_TIME\n",
    "    current_time = datetime.now().strftime(\"%Y-%m-%d %H:%M:%S\") # get the current time and format it as a string\n",
    "    # scheduled_time = datetime.now().replace(hour=19, minute=24).strftime(\"%Y-%m-%d %H:%M:%S\") # get the scheduled SMS time (same date, 19:24) and format it as a string\n",
    "    print(f\"Probe Message SENT!: {current_time}\") # displays current time\n",
    "    print(f\"Scheduled SMS arrival time: {SMS_ARRIVAL_TIME}\") # displays scheduled sms texts arrival time\n",
    "    print()\n",
    "    print(\"Waiting for signal from scheduler to send SMS message...\")\n",
    "    print()\n",
    "\n",
    "tasks_sent = 0\n",
    "\n",
    "def send_sms(task):\n",
    "    global tasks_sent\n",
    "    message = client.messages.create(\n",
    "        body=f\"Task -> {task}?\",\n",
    "        from_=TWILIO_PHONE_NUMBER,\n",
    "        to=TWILIO_TARGET_PHONE_NUMBER\n",
    "    )\n",
    "    tasks_sent += 1\n",
    "    print(f\"Message SENT -> {task}: {message.sid}\")\n",
    "\n",
    "    # display_time_info() # removed this because it sends the time info again, and we just want to send it once with the initial Goggins probe message\n",
    "\n",
    "def schedule_tasks():\n",
    "    for i, task in enumerate(tasks):\n",
    "        global SMS_ARRIVAL_TIME\n",
    "        schedule.every().day.at(SMS_ARRIVAL_TIME).do(send_sms, task=task) # *ADJUST TIME HERE*\n",
    "# TESTING -> this message is essentially a probe. \n",
    "# TESTING notes cont'd -> I try to make it look useful to the user but I really use it as a probe to make sure \"this thing is on\".\n",
    "def send_test_message():\n",
    "    message = client.messages.create(\n",
    "        body=\"Pain unlocks a secret doorway in the mind, one that leads to both peak performance and beautiful silence.\", # Chief Goggins quote\n",
    "        from_=TWILIO_PHONE_NUMBER,\n",
    "        to=TWILIO_TARGET_PHONE_NUMBER\n",
    "    )\n",
    "    print(f\"David Goggins test message sent: {message.sid}\")\n",
    "\n",
    "# this main function sends out that probe message and then waits until the scheduler time to send the SMS messages (with the tasks... essentially task reminders)\n",
    "def main():\n",
    "    schedule_tasks()\n",
    "    while True:\n",
    "        schedule.run_pending()\n",
    "        if tasks_sent >= len(tasks): # once the task list is comprehended through, then the function has completed its job\n",
    "            break\n",
    "        time.sleep(60) # might be extra -> pauses the execution of the script for 60 seconds \n",
    "        \"\"\"\n",
    "        time.sleep() can be used to introduce a delay or pause in the script to ensure that it runs at a controlled rate,\n",
    "        or to give other processes or services a chance to complete their tasks.\n",
    "        \n",
    "        we might need something like this later in future dev. I don't think it's needed now though. But I'll leave it.\n",
    "        \"\"\"\n",
    "\n",
    "# the main() function to run the program\n",
    "if __name__ == \"__main__\": # allows a script to be used both as an importable module and as a standalone script\n",
    "    send_test_message() # probe (Goggins) message\n",
    "    display_time_info() # prints the probe sms time and arrival time of task list\n",
    "    main() # runs above main() function"
   ]
  },
  {
   "attachments": {},
   "cell_type": "markdown",
   "metadata": {},
   "source": [
    "| END OF PROGRAM |\n",
    "|-|"
   ]
  },
  {
   "cell_type": "markdown",
   "metadata": {},
   "source": []
  }
 ],
 "metadata": {
  "kernelspec": {
   "display_name": "20MILEMARCH_venv",
   "language": "python",
   "name": "python3"
  },
  "language_info": {
   "codemirror_mode": {
    "name": "ipython",
    "version": 3
   },
   "file_extension": ".py",
   "mimetype": "text/x-python",
   "name": "python",
   "nbconvert_exporter": "python",
   "pygments_lexer": "ipython3",
   "version": "3.11.1"
  },
  "orig_nbformat": 4
 },
 "nbformat": 4,
 "nbformat_minor": 2
}
